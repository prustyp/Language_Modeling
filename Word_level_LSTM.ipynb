{
 "cells": [
  {
   "cell_type": "markdown",
   "metadata": {},
   "source": [
    "# imports"
   ]
  },
  {
   "cell_type": "code",
   "execution_count": 1,
   "metadata": {},
   "outputs": [],
   "source": [
    "import sys\n",
    "from datetime import datetime\n",
    "from nltk import tokenize\n",
    "import matplotlib.pyplot as plt\n",
    "import re\n",
    "import csv\n",
    "import itertools\n",
    "import operator\n",
    "import numpy as np\n",
    "import nltk\n",
    "%matplotlib inline\n",
    "from IPython import display\n",
    "plt.style.use('seaborn-white')"
   ]
  },
  {
   "cell_type": "markdown",
   "metadata": {},
   "source": [
    "# Load 3 Text Books and Concatenate "
   ]
  },
  {
   "cell_type": "code",
   "execution_count": 2,
   "metadata": {},
   "outputs": [],
   "source": [
    "#text files concatenation \n",
    "filenames = ['A_Journey_to_the_Center_of_the_Earth.txt', 'From_the_Earth_to_the_Moon.txt', 'The_master_of_the_world.txt']\n",
    "with open('/Users/pprusty05/google_drive/Deep_Learning/assignment3/Text_file_for_training.txt', 'w+') as outfile:\n",
    "    for fname in filenames:\n",
    "        with open(fname) as infile:\n",
    "            for line in infile:\n",
    "                outfile.write(line)"
   ]
  },
  {
   "cell_type": "code",
   "execution_count": 3,
   "metadata": {},
   "outputs": [],
   "source": [
    "train_data = open('Text_file_for_training.txt', 'r').read() \n",
    "\n",
    "#print(train_data)\n"
   ]
  },
  {
   "cell_type": "markdown",
   "metadata": {},
   "source": [
    "# Preprocessing "
   ]
  },
  {
   "cell_type": "code",
   "execution_count": 4,
   "metadata": {},
   "outputs": [],
   "source": [
    "vocabulary_size = 5000\n",
    "unknown_token = \"UNKNOWN\"\n",
    "sentence_start_token = \"SENTENCE_START\"\n",
    "sentence_end_token = \"SENTENCE_END\""
   ]
  },
  {
   "cell_type": "markdown",
   "metadata": {},
   "source": [
    "## Clean Text file, tokenize sentences and append sentence start and end token "
   ]
  },
  {
   "cell_type": "code",
   "execution_count": 5,
   "metadata": {},
   "outputs": [
    {
     "name": "stdout",
     "output_type": "stream",
     "text": [
      "Parsed 13926 sentences.\n"
     ]
    }
   ],
   "source": [
    "with open ('Text_file_for_training.txt', 'r') as f:\n",
    "    \n",
    "    text = f.read()\n",
    "    tokenized_sent = nltk.sent_tokenize(text)\n",
    "    sentences=[x.replace('\\n',' ') for x in tokenized_sent]\n",
    "    sentences = [re.sub('[^a-zA-Z0-9]', ' ', x)for x in tokenized_sent]\n",
    "    sentences = [word.lower() for word in sentences]\n",
    "\n",
    "    #sentences = itertools.chain(*[tokenize.sent_tokenize(x) for x in f])\n",
    "    sentences = [\"%s %s %s\" % (sentence_start_token, x, sentence_end_token) for x in sentences]\n",
    "    \n",
    "print( \"Parsed %d sentences.\" % (len(sentences)))\n",
    "\n",
    "    \n"
   ]
  },
  {
   "cell_type": "markdown",
   "metadata": {},
   "source": [
    "# Tokenize Word"
   ]
  },
  {
   "cell_type": "code",
   "execution_count": 6,
   "metadata": {},
   "outputs": [],
   "source": [
    "# Tokenize the sentences into words\n",
    "tokenized_words = [nltk.word_tokenize(sent) for sent in sentences]"
   ]
  },
  {
   "cell_type": "markdown",
   "metadata": {},
   "source": [
    "# Claculate word frequency and build index_to_word and word_to_index vectors"
   ]
  },
  {
   "cell_type": "code",
   "execution_count": 7,
   "metadata": {},
   "outputs": [
    {
     "name": "stdout",
     "output_type": "stream",
     "text": [
      "Found 13079 unique words tokens.\n"
     ]
    }
   ],
   "source": [
    "# Count the word frequencies\n",
    "word_freq = nltk.FreqDist(itertools.chain(*tokenized_words))\n",
    "print(\"Found %d unique words tokens.\" % len(word_freq.items()))"
   ]
  },
  {
   "cell_type": "code",
   "execution_count": 8,
   "metadata": {},
   "outputs": [
    {
     "data": {
      "text/plain": [
       "FreqDist({'the': 17484, 'SENTENCE_START': 13926, 'SENTENCE_END': 13926, 'of': 9369, 'to': 6171, 'and': 5424, 'a': 4466, 'in': 3619, 'i': 3275, 'was': 2858, ...})"
      ]
     },
     "execution_count": 8,
     "metadata": {},
     "output_type": "execute_result"
    }
   ],
   "source": [
    "word_freq"
   ]
  },
  {
   "cell_type": "code",
   "execution_count": 9,
   "metadata": {},
   "outputs": [],
   "source": [
    "# Get the most common words and build index_to_word and word_to_index vectors\n",
    "vocab = word_freq.most_common(vocabulary_size-1)\n",
    "index_to_word = [x[0] for x in vocab]\n",
    "index_to_word.append(unknown_token)\n",
    "word_to_index = dict([(w,i) for i,w in enumerate(index_to_word)])"
   ]
  },
  {
   "cell_type": "code",
   "execution_count": 10,
   "metadata": {},
   "outputs": [
    {
     "name": "stdout",
     "output_type": "stream",
     "text": [
      "Using vocabulary size 5000.\n",
      "The least frequent word in our vocabulary is 'clamps' and appeared 3 times.\n"
     ]
    },
    {
     "data": {
      "text/plain": [
       "[('the', 17484),\n",
       " ('SENTENCE_START', 13926),\n",
       " ('SENTENCE_END', 13926),\n",
       " ('of', 9369),\n",
       " ('to', 6171),\n",
       " ('and', 5424),\n",
       " ('a', 4466),\n",
       " ('in', 3619),\n",
       " ('i', 3275),\n",
       " ('was', 2858)]"
      ]
     },
     "execution_count": 10,
     "metadata": {},
     "output_type": "execute_result"
    }
   ],
   "source": [
    "print(\"Using vocabulary size %d.\" % vocabulary_size)\n",
    "print(\"The least frequent word in our vocabulary is '%s' and appeared %d times.\" % (vocab[-1][0], vocab[-1][1]))\n",
    "word_freq.most_common(10)"
   ]
  },
  {
   "cell_type": "code",
   "execution_count": 11,
   "metadata": {},
   "outputs": [],
   "source": [
    "# Replace all words not in our vocabulary with the unknown token\n",
    "for i, sent in enumerate(tokenized_words):\n",
    "    tokenized_words[i] = [w if w in word_to_index else unknown_token for w in sent]"
   ]
  },
  {
   "cell_type": "code",
   "execution_count": 12,
   "metadata": {},
   "outputs": [
    {
     "name": "stdout",
     "output_type": "stream",
     "text": [
      "\n",
      "Example sentence: 'SENTENCE_START project gutenberg s a journey to the centre of the earth  by jules verne  this ebook is for the use of anyone anywhere at no cost and with almost no restrictions whatsoever  SENTENCE_END'\n",
      "\n",
      "Example sentence after Pre-processing: '['SENTENCE_START', 'project', 'gutenberg', 's', 'a', 'journey', 'to', 'the', 'centre', 'of', 'the', 'earth', 'by', 'jules', 'verne', 'this', 'ebook', 'is', 'for', 'the', 'use', 'of', 'anyone', 'anywhere', 'at', 'no', 'cost', 'and', 'with', 'almost', 'no', 'restrictions', 'whatsoever', 'SENTENCE_END']'\n"
     ]
    }
   ],
   "source": [
    "print(\"\\nExample sentence: '%s'\" % sentences[0])\n",
    "print(\"\\nExample sentence after Pre-processing: '%s'\" % tokenized_words[0])"
   ]
  },
  {
   "cell_type": "markdown",
   "metadata": {},
   "source": [
    "# XTrain and yTrain "
   ]
  },
  {
   "cell_type": "code",
   "execution_count": 13,
   "metadata": {},
   "outputs": [],
   "source": [
    "# Create the training data\n",
    "XTrain = np.asarray([[word_to_index[w] for w in sent[:-1]] for sent in tokenized_words])\n",
    "yTrain = np.asarray([[word_to_index[w] for w in sent[1:]] for sent in tokenized_words])"
   ]
  },
  {
   "cell_type": "code",
   "execution_count": 14,
   "metadata": {},
   "outputs": [
    {
     "data": {
      "text/plain": [
       "(13926,)"
      ]
     },
     "execution_count": 14,
     "metadata": {},
     "output_type": "execute_result"
    }
   ],
   "source": [
    "XTrain.shape"
   ]
  },
  {
   "cell_type": "code",
   "execution_count": 15,
   "metadata": {},
   "outputs": [
    {
     "data": {
      "text/plain": [
       "(13926,)"
      ]
     },
     "execution_count": 15,
     "metadata": {},
     "output_type": "execute_result"
    }
   ],
   "source": [
    "yTrain.shape"
   ]
  },
  {
   "cell_type": "code",
   "execution_count": 16,
   "metadata": {},
   "outputs": [
    {
     "name": "stdout",
     "output_type": "stream",
     "text": [
      "x:\n",
      "SENTENCE_START to bear with him means to obey and scarcely had his heavy feet resounded within our UNKNOWN UNKNOWN than he shouted for me to attend upon him\n",
      "[1, 4, 1159, 19, 76, 216, 4, 3249, 5, 332, 20, 26, 488, 104, 3250, 226, 34, 4999, 4999, 75, 25, 2649, 27, 47, 4, 4913, 62, 76]\n",
      "\n",
      "y:\n",
      "to bear with him means to obey and scarcely had his heavy feet resounded within our UNKNOWN UNKNOWN than he shouted for me to attend upon him SENTENCE_END\n",
      "[4, 1159, 19, 76, 216, 4, 3249, 5, 332, 20, 26, 488, 104, 3250, 226, 34, 4999, 4999, 75, 25, 2649, 27, 47, 4, 4913, 62, 76, 2]\n"
     ]
    }
   ],
   "source": [
    "# Print an training data example\n",
    "x_example, y_example = XTrain[17], yTrain[17]\n",
    "print (\"x:\\n%s\\n%s\" % (\" \".join([index_to_word[x] for x in x_example]), x_example))\n",
    "print (\"\\ny:\\n%s\\n%s\" % (\" \".join([index_to_word[x] for x in y_example]), y_example))"
   ]
  },
  {
   "cell_type": "markdown",
   "metadata": {},
   "source": [
    "# Task 4: Word-level LSTM RNN"
   ]
  },
  {
   "cell_type": "code",
   "execution_count": 47,
   "metadata": {},
   "outputs": [],
   "source": [
    "data_size,vocab_size = len(train_data), vocabulary_size"
   ]
  },
  {
   "cell_type": "code",
   "execution_count": 66,
   "metadata": {},
   "outputs": [],
   "source": [
    "# Constants and hyper-params\n",
    "H_size = 10 # Size of the hidden layer\n",
    "T_steps = 10\n",
    "# Number of time steps (length of the sequence) used for training\n",
    "learning_rate = 0.005 # Learning rate\n",
    "weight_sd = 0.1 # Standard deviation of weights for initialization\n",
    "z_size = H_size + vocab_size # Size of concatenate(H, X) vector"
   ]
  },
  {
   "cell_type": "code",
   "execution_count": 67,
   "metadata": {},
   "outputs": [],
   "source": [
    "def sigmoid(x):\n",
    "    return 1 / (1 + np.exp(-x))\n",
    "\n",
    "\n",
    "def dsigmoid(y):\n",
    "    return y * (1 - y)\n",
    "\n",
    "\n",
    "def tanh(x):\n",
    "    return np.tanh(x)\n",
    "\n",
    "\n",
    "def dtanh(y):\n",
    "    return 1 - y * y"
   ]
  },
  {
   "cell_type": "code",
   "execution_count": 68,
   "metadata": {},
   "outputs": [],
   "source": [
    "# Parameters\n",
    "# We use random weights with normal distribution (0, weight_sd) for  tanh  activation function \n",
    "# and (0.5, weight_sd) for  sigmoid  activation function.\n",
    "# Biases are initialized to zeros.\n",
    "class Param:\n",
    "    def __init__(self, name, value):\n",
    "        self.name = name\n",
    "        self.v = value #parameter value\n",
    "        self.d = np.zeros_like(value) #derivative\n",
    "        self.m = np.zeros_like(value) #momentum for AdaGrad\n",
    "        \n",
    "class Parameters:\n",
    "    def __init__(self):\n",
    "        self.W_f = Param('W_f', \n",
    "                         np.random.randn(H_size, z_size) * weight_sd + 0.5)\n",
    "        self.b_f = Param('b_f',\n",
    "                         np.zeros((H_size, 1)))\n",
    "\n",
    "        self.W_i = Param('W_i',\n",
    "                         np.random.randn(H_size, z_size) * weight_sd + 0.5)\n",
    "        self.b_i = Param('b_i',\n",
    "                         np.zeros((H_size, 1)))\n",
    "\n",
    "        self.W_C = Param('W_C',\n",
    "                         np.random.randn(H_size, z_size) * weight_sd)\n",
    "        self.b_C = Param('b_C',\n",
    "                         np.zeros((H_size, 1)))\n",
    "\n",
    "        self.W_o = Param('W_o',\n",
    "                         np.random.randn(H_size, z_size) * weight_sd + 0.5)\n",
    "        self.b_o = Param('b_o',\n",
    "                         np.zeros((H_size, 1)))\n",
    "\n",
    "        #For final layer to predict the next character\n",
    "        self.W_v = Param('W_v',\n",
    "                         np.random.randn(vocab_size, H_size) * weight_sd)\n",
    "        self.b_v = Param('b_v',\n",
    "                         np.zeros((vocab_size, 1)))\n",
    "        \n",
    "    def all(self):\n",
    "        return [self.W_f, self.W_i, self.W_C, self.W_o, self.W_v,\n",
    "               self.b_f, self.b_i, self.b_C, self.b_o, self.b_v]\n",
    "        \n",
    "parameters = Parameters()"
   ]
  },
  {
   "cell_type": "code",
   "execution_count": 69,
   "metadata": {},
   "outputs": [],
   "source": [
    "def forward(x, h_prev, C_prev, p = parameters):\n",
    "    assert x.shape == (vocab_size, 1)\n",
    "    assert h_prev.shape == (H_size, 1)\n",
    "    assert C_prev.shape == (H_size, 1)\n",
    "    \n",
    "    z = np.row_stack((h_prev, x))\n",
    "    f = sigmoid(np.dot(p.W_f.v, z) + p.b_f.v)\n",
    "    i = sigmoid(np.dot(p.W_i.v, z) + p.b_i.v)\n",
    "    C_bar = tanh(np.dot(p.W_C.v, z) + p.b_C.v)\n",
    "\n",
    "    C = f * C_prev + i * C_bar\n",
    "    o = sigmoid(np.dot(p.W_o.v, z) + p.b_o.v)\n",
    "    h = o * tanh(C)\n",
    "\n",
    "    v = np.dot(p.W_v.v, h) + p.b_v.v\n",
    "    y = np.exp(v) / np.sum(np.exp(v))  #softmax\n",
    "\n",
    "    return z, f, i, C_bar, C, o, h, v, y"
   ]
  },
  {
   "cell_type": "code",
   "execution_count": 70,
   "metadata": {},
   "outputs": [
    {
     "data": {
      "text/plain": [
       "array([[0.82471509],\n",
       "       [0.84188191],\n",
       "       [0.37508933],\n",
       "       [0.41195958],\n",
       "       [0.11231604],\n",
       "       [0.44814117],\n",
       "       [0.66069392],\n",
       "       [0.37512382],\n",
       "       [0.45957785],\n",
       "       [0.75864027]])"
      ]
     },
     "execution_count": 70,
     "metadata": {},
     "output_type": "execute_result"
    }
   ],
   "source": [
    "dummyVector = np.random.randn(10, 1)\n",
    "sigmoid(dummyVector)"
   ]
  },
  {
   "cell_type": "code",
   "execution_count": 71,
   "metadata": {},
   "outputs": [],
   "source": [
    "def backward(target, dh_next, dC_next, C_prev,\n",
    "             z, f, i, C_bar, C, o, h, v, y,\n",
    "             p = parameters):\n",
    "    \n",
    "    assert z.shape == (vocab_size + H_size, 1)\n",
    "    assert v.shape == (vocab_size, 1)\n",
    "    assert y.shape == (vocab_size, 1)\n",
    "    \n",
    "    for param in [dh_next, dC_next, C_prev, f, i, C_bar, C, o, h]:\n",
    "        assert param.shape == (H_size, 1)\n",
    "        \n",
    "    dv = np.copy(y)\n",
    "    dv[target] -= 1\n",
    "\n",
    "    p.W_v.d += np.dot(dv, h.T)\n",
    "    p.b_v.d += dv\n",
    "\n",
    "    dh = np.dot(p.W_v.v.T, dv)        \n",
    "    dh += dh_next\n",
    "    do = dh * tanh(C)\n",
    "    do = dsigmoid(o) * do\n",
    "    p.W_o.d += np.dot(do, z.T)\n",
    "    p.b_o.d += do\n",
    "\n",
    "    dC = np.copy(dC_next)\n",
    "    dC += dh * o * dtanh(tanh(C))\n",
    "    dC_bar = dC * i\n",
    "    dC_bar = dtanh(C_bar) * dC_bar\n",
    "    p.W_C.d += np.dot(dC_bar, z.T)\n",
    "    p.b_C.d += dC_bar\n",
    "\n",
    "    di = dC * C_bar\n",
    "    di = dsigmoid(i) * di\n",
    "    p.W_i.d += np.dot(di, z.T)\n",
    "    p.b_i.d += di\n",
    "\n",
    "    df = dC * C_prev\n",
    "    df = dsigmoid(f) * df\n",
    "    p.W_f.d += np.dot(df, z.T)\n",
    "    p.b_f.d += df\n",
    "\n",
    "    dz = (np.dot(p.W_f.v.T, df)\n",
    "         + np.dot(p.W_i.v.T, di)\n",
    "         + np.dot(p.W_C.v.T, dC_bar)\n",
    "         + np.dot(p.W_o.v.T, do))\n",
    "    dh_prev = dz[:H_size, :]\n",
    "    dC_prev = f * dC\n",
    "    \n",
    "    return dh_prev, dC_prev"
   ]
  },
  {
   "cell_type": "code",
   "execution_count": 72,
   "metadata": {},
   "outputs": [],
   "source": [
    "# Clear gradients before each backward pass\n",
    "def clear_gradients(params = parameters):\n",
    "    for p in params.all():\n",
    "        p.d.fill(0)"
   ]
  },
  {
   "cell_type": "code",
   "execution_count": 73,
   "metadata": {},
   "outputs": [],
   "source": [
    " #Clip gradients to mitigate exploding gradients\n",
    "def clip_gradients(params = parameters):\n",
    "    for p in params.all():\n",
    "        np.clip(p.d, -1, 1, out=p.d)"
   ]
  },
  {
   "cell_type": "code",
   "execution_count": 74,
   "metadata": {},
   "outputs": [],
   "source": [
    "def calculate_total_loss(self, x, y):\n",
    "    L = 0\n",
    "    \n",
    "    # For each sentence...\n",
    "    for i in np.arange(len(y)):\n",
    "        o, s = self.forward_propagation(x[i])\n",
    "        \n",
    "        # We only care about our prediction of the \"correct\" words\n",
    "        correct_word_predictions = o[np.arange(len(y[i])), y[i]]\n",
    "        \n",
    "        # Add to the loss based on how off we were\n",
    "        L += -1 * sum(np.log(correct_word_predictions))\n",
    "    return L\n",
    " \n",
    "def calculate_loss(self, x, y):\n",
    "    # Divide the total loss by the number of training examples\n",
    "    N = sum((len(y_i) for y_i in y))\n",
    "    return self.calculate_total_loss(x,y)/N"
   ]
  },
  {
   "cell_type": "code",
   "execution_count": 75,
   "metadata": {},
   "outputs": [],
   "source": [
    "\n",
    "def forward_backward(inputs, targets, h_prev, C_prev):\n",
    "    global paramters\n",
    "    \n",
    "    # To store the values for each time step\n",
    "    x_s, z_s, f_s, i_s,  = {}, {}, {}, {}\n",
    "    C_bar_s, C_s, o_s, h_s = {}, {}, {}, {}\n",
    "    v_s, y_s =  {}, {}\n",
    "    \n",
    "    # Values at t - 1\n",
    "    h_s[-1] = np.copy(h_prev)\n",
    "    C_s[-1] = np.copy(C_prev)\n",
    "    \n",
    "    loss = 0\n",
    "    # Loop through time steps\n",
    "    #assert len(inputs) == T_steps\n",
    "    for t in range(len(inputs)):\n",
    "        x_s[t] = np.zeros((vocab_size, 1))\n",
    "        x_s[t][inputs[t]] = 1 # Input character\n",
    "        \n",
    "        (z_s[t], f_s[t], i_s[t],\n",
    "        C_bar_s[t], C_s[t], o_s[t], h_s[t],\n",
    "        v_s[t], y_s[t]) = \\\n",
    "            forward(x_s[t], h_s[t - 1], C_s[t - 1]) # Forward pass\n",
    "        #print(y_s[t].shape)\n",
    "        #print(len(targets[t]))\n",
    "        #print(o_s[t].shape)\n",
    "        #print(targets[t])\n",
    "                 # We only care about our prediction of the \"correct\" words\n",
    "        #correct_word_predictions = y_s[t][len(targets[t]), 0]\n",
    "       \n",
    "        \n",
    "        # Add to the loss based on how off we were\n",
    "        #loss += -1 * sum(math.log(correct_word_predictions))   \n",
    "        loss += -np.log(y_s[t][len(targets[t]), 0]) # Loss for at t\n",
    "        \n",
    "    clear_gradients()\n",
    "\n",
    "    dh_next = np.zeros_like(h_s[0]) #dh from the next character\n",
    "    dC_next = np.zeros_like(C_s[0]) #dh from the next character\n",
    "\n",
    "    for t in reversed(range(len(inputs))):\n",
    "        # Backward pass\n",
    "        dh_next, dC_next = \\\n",
    "            backward(target = targets[t], dh_next = dh_next,\n",
    "                     dC_next = dC_next, C_prev = C_s[t-1],\n",
    "                     z = z_s[t], f = f_s[t], i = i_s[t], C_bar = C_bar_s[t],\n",
    "                     C = C_s[t], o = o_s[t], h = h_s[t], v = v_s[t],\n",
    "                     y = y_s[t])\n",
    "\n",
    "    clip_gradients()\n",
    "        \n",
    "    return loss, h_s[len(inputs) - 1], C_s[len(inputs) - 1]"
   ]
  },
  {
   "cell_type": "code",
   "execution_count": 76,
   "metadata": {},
   "outputs": [],
   "source": [
    "def generate_next_word(h_prev, C_prev, first_char_idx, sentence_length):\n",
    "    x = np.zeros((vocab_size, 1))\n",
    "    x[first_char_idx] = 1\n",
    "\n",
    "    h = h_prev\n",
    "    C = C_prev\n",
    "\n",
    "    indexes = []\n",
    "    \n",
    "    for t in range(sentence_length):\n",
    "        _, _, _, _, C, _, h, _, p = forward(x, h, C)\n",
    "        idx = np.random.choice(range(vocab_size), p=p.ravel())\n",
    "        x = np.zeros((vocab_size, 1))\n",
    "        x[idx] = 1\n",
    "        indexes.append(idx)\n",
    "\n",
    "    return indexes"
   ]
  },
  {
   "cell_type": "code",
   "execution_count": 77,
   "metadata": {},
   "outputs": [],
   "source": [
    "\n",
    "# Update the graph and display a sample output\n",
    "def update_status(inputs, h_prev, C_prev):\n",
    "    #initialized later\n",
    "    global plot_iter, plot_loss\n",
    "    global smooth_loss\n",
    "    \n",
    "    # Get predictions for 200 letters with current model\n",
    "\n",
    "    sample_idx = generate_next_word(h_prev, C_prev, inputs[1], len(inputs))\n",
    "    txt = ' '.join(index_to_word[idx] for idx in sample_idx)\n",
    "\n",
    "    # Clear and plot\n",
    "    plt.plot(plot_iter, plot_loss)\n",
    "    display.clear_output(wait=True)\n",
    "    plt.show()\n",
    "\n",
    "    #Print prediction and loss\n",
    "    print(\"----\\n %s \\n----\" % (txt, ))\n",
    "    print(\"iter %d, loss %f\" % (iteration, smooth_loss))"
   ]
  },
  {
   "cell_type": "code",
   "execution_count": 78,
   "metadata": {},
   "outputs": [],
   "source": [
    "def update_paramters(params = parameters):\n",
    "    for p in params.all():\n",
    "        p.m += p.d * p.d # Calculate sum of gradients\n",
    "        #print(learning_rate * dparam)\n",
    "        p.v += -(learning_rate * p.d / np.sqrt(p.m + 1e-8))"
   ]
  },
  {
   "cell_type": "code",
   "execution_count": 79,
   "metadata": {},
   "outputs": [],
   "source": [
    "# To delay the keyboard interrupt to prevent the training from stopping in the middle of an iteration\n",
    "import signal\n",
    "\n",
    "class DelayedKeyboardInterrupt(object):\n",
    "    def __enter__(self):\n",
    "        self.signal_received = False\n",
    "        self.old_handler = signal.signal(signal.SIGINT, self.handler)\n",
    "\n",
    "    def handler(self, sig, frame):\n",
    "        self.signal_received = (sig, frame)\n",
    "        print('SIGINT received. Delaying KeyboardInterrupt.')\n",
    "\n",
    "    def __exit__(self, type, value, traceback):\n",
    "        signal.signal(signal.SIGINT, self.old_handler)\n",
    "        if self.signal_received:\n",
    "            self.old_handler(*self.signal_received)"
   ]
  },
  {
   "cell_type": "code",
   "execution_count": 80,
   "metadata": {},
   "outputs": [],
   "source": [
    "# Exponential average of loss\n",
    "# Initialize to a error of a random model\n",
    "smooth_loss = -np.log(1.0 / vocab_size) * T_steps\n",
    "\n",
    "iteration, pointer = 0, 0\n",
    "\n",
    "# For the graph\n",
    "plot_iter = np.zeros((0))\n",
    "plot_loss = np.zeros((0))"
   ]
  },
  {
   "cell_type": "code",
   "execution_count": 81,
   "metadata": {},
   "outputs": [
    {
     "data": {
      "text/plain": [
       "85.17193191416239"
      ]
     },
     "execution_count": 81,
     "metadata": {},
     "output_type": "execute_result"
    }
   ],
   "source": [
    "smooth_loss\n",
    "#smooth_loss2 = -np.log(1.0 / vocab_size) * T_steps"
   ]
  },
  {
   "cell_type": "code",
   "execution_count": 82,
   "metadata": {},
   "outputs": [],
   "source": [
    "# Update the graph and display a sample output\n",
    "def print_status(inputs, h_prev, C_prev):\n",
    "    # Get predictions for 200 letters with current model\n",
    "    sample_idx = generate_next_word(h_prev, C_prev, inputs[0], 20)\n",
    "    txt = ' '.join(index_to_word[idx] for idx in sample_idx)\n",
    "    # Clear and plot\n",
    "    #plt.plot(plot_iter, plot_loss)\n",
    "    #display.clear_output(wait=True)\n",
    "    #plt.show()\n",
    "    #Print prediction and loss\n",
    "    print(\"----\\n %s \\n----\" % (txt, ))"
   ]
  },
  {
   "cell_type": "code",
   "execution_count": 83,
   "metadata": {},
   "outputs": [
    {
     "name": "stdout",
     "output_type": "stream",
     "text": [
      "prediction at breakpoint:  10\n",
      "----\n",
      " post ancient passion advanced mountains impassive ensure descend became eclipse flame allowing surprises excessive fury content rest master retreat do \n",
      "----\n",
      "prediction at breakpoint:  20\n",
      "----\n",
      " owns composed connecticut perfectly trembled afraid duel magic dream astronomer tumult involved played decide craters brain bent instant files so \n",
      "----\n",
      "prediction at breakpoint:  30\n",
      "----\n",
      " universal justice lieu portions ring extend annihilated representations charges shock incidental separated excess mountain extend feared given rapidity burning bits \n",
      "----\n",
      "prediction at breakpoint:  40\n",
      "----\n",
      " confidence dressed believed sent together increases look liability expenses recollect seek locked flowed existing impatiently john entering resign impatience changes \n",
      "----\n",
      "prediction at breakpoint:  50\n",
      "----\n",
      " fatality airship fridriksson practically hall brilliantly destructive mappa startling winds beds govern tight moon explosion uniform growing jumping tear burning \n",
      "----\n",
      "prediction at breakpoint:  60\n",
      "----\n",
      " ought chauffeur seconds speaker clamps release atmospheric mind nest founded swept shrugging shining society notion parties useful uttering startling spots \n",
      "----\n",
      "prediction at breakpoint:  70\n",
      "----\n",
      " window pyramids keep named quantity hidden commander refuge drawn plow centuries left dinner faith supposing gently compass lieu wonders undoubtedly \n",
      "----\n",
      "prediction at breakpoint:  80\n",
      "----\n",
      " published aged instant tongue opening game come bury five involuntary signaled encampment warned turnings engineers over further quit forgetting grown \n",
      "----\n",
      "prediction at breakpoint:  99\n",
      "----\n",
      " does november imagined appearance away heaps sandstone stream barren physical canadian spite infinity idioms supposed special breathed copy furnished towers \n",
      "----\n"
     ]
    },
    {
     "data": {
      "text/plain": [
       "[<matplotlib.lines.Line2D at 0x121703b38>]"
      ]
     },
     "execution_count": 83,
     "metadata": {},
     "output_type": "execute_result"
    },
    {
     "data": {
      "image/png": "[encoded data removed]",
      "text/plain": [
       "<Figure size 432x288 with 1 Axes>"
      ]
     },
     "metadata": {
      "needs_background": "light"
     },
     "output_type": "display_data"
    }
   ],
   "source": [
    "parameters = Parameters()\n",
    "list_of_breakpoints = [10,20,30,40,50,60,70,80,99]\n",
    "iteration=0\n",
    "plot_loss_inner = []\n",
    "for i in range(100):\n",
    "    if pointer + T_steps >= len(train_data) or iteration == 0:\n",
    "        g_h_prev = np.zeros((H_size, 1))\n",
    "        g_C_prev = np.zeros((H_size, 1))\n",
    "        pointer = 0\n",
    "    inputs = XTrain[:T_steps]\n",
    "    targets = yTrain[:T_steps]\n",
    "\n",
    "    \n",
    "    loss, g_h_prev, g_C_prev = \\\n",
    "        forward_backward(inputs, targets, g_h_prev, g_C_prev)\n",
    "    smooth_loss = smooth_loss * 0.999 + loss * 0.001\n",
    "    if iteration in list_of_breakpoints:\n",
    "        print('prediction at breakpoint: ', iteration)\n",
    "        print_status(inputs, g_h_prev, g_C_prev)\n",
    "\n",
    "    update_paramters()\n",
    "    plot_loss_inner = np.append(plot_loss_inner, [loss])\n",
    "\n",
    "    pointer += T_steps\n",
    "    iteration += 1\n",
    "\n",
    "plt.plot(plot_loss_inner)\n",
    "\n"
   ]
  },
  {
   "cell_type": "code",
   "execution_count": 84,
   "metadata": {},
   "outputs": [],
   "source": [
    "# Calculate numerical gradient\n",
    "def calc_numerical_gradient(param, idx, delta, inputs, target, h_prev, C_prev):\n",
    "    old_val = param.v.flat[idx]\n",
    "    \n",
    "    # evaluate loss at [x + delta] and [x - delta]\n",
    "    param.v.flat[idx] = old_val + delta\n",
    "    loss_plus_delta, _, _ = forward_backward(inputs, targets,\n",
    "                                             h_prev, C_prev)\n",
    "    param.v.flat[idx] = old_val - delta\n",
    "    loss_mins_delta, _, _ = forward_backward(inputs, targets, \n",
    "                                             h_prev, C_prev)\n",
    "    \n",
    "    param.v.flat[idx] = old_val #reset\n",
    "\n",
    "    grad_numerical = (loss_plus_delta - loss_mins_delta) / (2 * delta)\n",
    "    # Clip numerical error because analytical gradient is clipped\n",
    "    [grad_numerical] = np.clip([grad_numerical], -1, 1) \n",
    "    \n",
    "    return grad_numerical\n"
   ]
  },
  {
   "cell_type": "code",
   "execution_count": 89,
   "metadata": {},
   "outputs": [],
   "source": [
    "from random import uniform\n",
    "# Check gradient of each paramter matrix/vector at `num_checks` individual values\n",
    "def gradient_check(num_checks, delta, inputs, target, h_prev, C_prev):\n",
    "    global parameters\n",
    "    \n",
    "    # To calculate computed gradients\n",
    "    _, _, _ =  forward_backward(inputs, targets, h_prev, C_prev)\n",
    "    \n",
    "    \n",
    "    for param in parameters.all():\n",
    "        #Make a copy because this will get modified\n",
    "        d_copy = np.copy(param.d)\n",
    "\n",
    "        # Test num_checks times\n",
    "        for i in range(num_checks):\n",
    "            # Pick a random index\n",
    "            rnd_idx = int(uniform(0, param.v.size))\n",
    "            \n",
    "            grad_numerical = calc_numerical_gradient(param,\n",
    "                                                     rnd_idx,\n",
    "                                                     delta,\n",
    "                                                     inputs,\n",
    "                                                     target,\n",
    "                                                     h_prev, C_prev)\n",
    "            grad_analytical = d_copy.flat[rnd_idx]\n",
    "\n",
    "            err_sum = abs(grad_numerical + grad_analytical) + 1e-09\n",
    "            rel_error = abs(grad_analytical - grad_numerical) / err_sum\n",
    "            # If relative error is greater than 1e-06\n",
    "            if rel_error > .05:\n",
    "                print('%s (%e, %e) => %e'\n",
    "                      % (param.name, grad_numerical, grad_analytical, rel_error))"
   ]
  },
  {
   "cell_type": "code",
   "execution_count": 90,
   "metadata": {},
   "outputs": [],
   "source": [
    "parameters = Parameters()\n",
    "iteration = 0\n",
    "\n",
    "gradient_check(10, .005, [1,2,3,4], [2,3,4,5], g_h_prev, g_C_prev)"
   ]
  },
  {
   "cell_type": "markdown",
   "metadata": {},
   "source": [
    "# Number of hidden units: Try doubling and halving your number of hidden units. And after training, plot the training loss vs the number of training epochs, and show the text sampling"
   ]
  },
  {
   "cell_type": "code",
   "execution_count": 91,
   "metadata": {},
   "outputs": [],
   "source": [
    "# Constants and hyper-params\n",
    "H_size = 20 # Size of the hidden layer\n",
    "T_steps = 10\n",
    "# Number of time steps (length of the sequence) used for training\n",
    "learning_rate = .005# Learning rate\n",
    "weight_sd = 0.1 # Standard deviation of weights for initialization\n",
    "z_size = H_size + vocab_size # Size of concatenate(H, X) vector"
   ]
  },
  {
   "cell_type": "code",
   "execution_count": 92,
   "metadata": {},
   "outputs": [],
   "source": [
    "# Parameters\n",
    "# We use random weights with normal distribution (0, weight_sd) for  tanh  activation function \n",
    "# and (0.5, weight_sd) for  sigmoid  activation function.\n",
    "# Biases are initialized to zeros.\n",
    "class Param:\n",
    "    def __init__(self, name, value):\n",
    "        self.name = name\n",
    "        self.v = value #parameter value\n",
    "        self.d = np.zeros_like(value) #derivative\n",
    "        self.m = np.zeros_like(value) #momentum for AdaGrad\n",
    "        \n",
    "class Parameters:\n",
    "    def __init__(self):\n",
    "        self.W_f = Param('W_f', \n",
    "                         np.random.randn(H_size, z_size) * weight_sd + 0.5)\n",
    "        self.b_f = Param('b_f',\n",
    "                         np.zeros((H_size, 1)))\n",
    "\n",
    "        self.W_i = Param('W_i',\n",
    "                         np.random.randn(H_size, z_size) * weight_sd + 0.5)\n",
    "        self.b_i = Param('b_i',\n",
    "                         np.zeros((H_size, 1)))\n",
    "\n",
    "        self.W_C = Param('W_C',\n",
    "                         np.random.randn(H_size, z_size) * weight_sd)\n",
    "        self.b_C = Param('b_C',\n",
    "                         np.zeros((H_size, 1)))\n",
    "\n",
    "        self.W_o = Param('W_o',\n",
    "                         np.random.randn(H_size, z_size) * weight_sd + 0.5)\n",
    "        self.b_o = Param('b_o',\n",
    "                         np.zeros((H_size, 1)))\n",
    "\n",
    "        #For final layer to predict the next character\n",
    "        self.W_v = Param('W_v',\n",
    "                         np.random.randn(vocab_size, H_size) * weight_sd)\n",
    "        self.b_v = Param('b_v',\n",
    "                         np.zeros((vocab_size, 1)))\n",
    "        \n",
    "    def all(self):\n",
    "        return [self.W_f, self.W_i, self.W_C, self.W_o, self.W_v,\n",
    "               self.b_f, self.b_i, self.b_C, self.b_o, self.b_v]\n",
    "        \n",
    "parameters_double = Parameters()\n",
    "\n",
    "def forward(x, h_prev, C_prev, p = parameters_double):\n",
    "    assert x.shape == (vocab_size, 1)\n",
    "    assert h_prev.shape == (H_size, 1)\n",
    "    assert C_prev.shape == (H_size, 1)\n",
    "    \n",
    "    z = np.row_stack((h_prev, x))\n",
    "    f = sigmoid(np.dot(p.W_f.v, z) + p.b_f.v)\n",
    "    i = sigmoid(np.dot(p.W_i.v, z) + p.b_i.v)\n",
    "    C_bar = tanh(np.dot(p.W_C.v, z) + p.b_C.v)\n",
    "\n",
    "    C = f * C_prev + i * C_bar\n",
    "    o = sigmoid(np.dot(p.W_o.v, z) + p.b_o.v)\n",
    "    h = o * tanh(C)\n",
    "\n",
    "    v = np.dot(p.W_v.v, h) + p.b_v.v\n",
    "    y = np.exp(v) / np.sum(np.exp(v)) #softmax\n",
    "\n",
    "    return z, f, i, C_bar, C, o, h, v, y\n",
    "\n",
    "def backward(target, dh_next, dC_next, C_prev,\n",
    "             z, f, i, C_bar, C, o, h, v, y,\n",
    "             p = parameters_double):\n",
    "    \n",
    "    assert z.shape == (vocab_size + H_size, 1)\n",
    "    assert v.shape == (vocab_size, 1)\n",
    "    assert y.shape == (vocab_size, 1)\n",
    "    \n",
    "    for param in [dh_next, dC_next, C_prev, f, i, C_bar, C, o, h]:\n",
    "        assert param.shape == (H_size, 1)\n",
    "        \n",
    "    dv = np.copy(y)\n",
    "    dv[target] -= 1\n",
    "\n",
    "    p.W_v.d += np.dot(dv, h.T)\n",
    "    p.b_v.d += dv\n",
    "\n",
    "    dh = np.dot(p.W_v.v.T, dv)        \n",
    "    dh += dh_next\n",
    "    do = dh * tanh(C)\n",
    "    do = dsigmoid(o) * do\n",
    "    p.W_o.d += np.dot(do, z.T)\n",
    "    p.b_o.d += do\n",
    "\n",
    "    dC = np.copy(dC_next)\n",
    "    dC += dh * o * dtanh(tanh(C))\n",
    "    dC_bar = dC * i\n",
    "    dC_bar = dtanh(C_bar) * dC_bar\n",
    "    p.W_C.d += np.dot(dC_bar, z.T)\n",
    "    p.b_C.d += dC_bar\n",
    "\n",
    "    di = dC * C_bar\n",
    "    di = dsigmoid(i) * di\n",
    "    p.W_i.d += np.dot(di, z.T)\n",
    "    p.b_i.d += di\n",
    "\n",
    "    df = dC * C_prev\n",
    "    df = dsigmoid(f) * df\n",
    "    p.W_f.d += np.dot(df, z.T)\n",
    "    p.b_f.d += df\n",
    "\n",
    "    dz = (np.dot(p.W_f.v.T, df)\n",
    "         + np.dot(p.W_i.v.T, di)\n",
    "         + np.dot(p.W_C.v.T, dC_bar)\n",
    "         + np.dot(p.W_o.v.T, do))\n",
    "    dh_prev = dz[:H_size, :]\n",
    "    dC_prev = f * dC\n",
    "    \n",
    "    return dh_prev, dC_prev\n",
    "\n",
    "# Clear gradients before each backward pass\n",
    "def clear_gradients(params = parameters_double):\n",
    "    for p in params.all():\n",
    "        p.d.fill(0)\n",
    "        \n",
    "        \n",
    "# Clip gradients to mitigate exploding gradients\n",
    "def clip_gradients(params = parameters_double):\n",
    "    for p in params.all():\n",
    "        np.clip(p.d, -1, 1, out=p.d)\n",
    "        \n",
    "def forward_backward(inputs, targets, h_prev, C_prev):\n",
    "    global paramters\n",
    "    \n",
    "    # To store the values for each time step\n",
    "    x_s, z_s, f_s, i_s,  = {}, {}, {}, {}\n",
    "    C_bar_s, C_s, o_s, h_s = {}, {}, {}, {}\n",
    "    v_s, y_s =  {}, {}\n",
    "    \n",
    "    # Values at t - 1\n",
    "    h_s[-1] = np.copy(h_prev)\n",
    "    C_s[-1] = np.copy(C_prev)\n",
    "    \n",
    "    loss = 0\n",
    "    # Loop through time steps\n",
    "    for t in range(len(inputs)):\n",
    "        x_s[t] = np.zeros((vocab_size, 1))\n",
    "        x_s[t][inputs[t]] = 1 # Input character\n",
    "        \n",
    "        (z_s[t], f_s[t], i_s[t],\n",
    "        C_bar_s[t], C_s[t], o_s[t], h_s[t],\n",
    "        v_s[t], y_s[t]) = \\\n",
    "            forward(x_s[t], h_s[t - 1], C_s[t - 1]) # Forward pass\n",
    "       \n",
    "            \n",
    "        loss += -np.log(y_s[t][len(targets[t]), 0]) # Loss for at t\n",
    "        \n",
    "    clear_gradients()\n",
    "\n",
    "    dh_next = np.zeros_like(h_s[0]) #dh from the next character\n",
    "    dC_next = np.zeros_like(C_s[0]) #dh from the next character\n",
    "\n",
    "    for t in reversed(range(len(inputs))):\n",
    "        # Backward pass\n",
    "        dh_next, dC_next = \\\n",
    "            backward(target = targets[t], dh_next = dh_next,\n",
    "                     dC_next = dC_next, C_prev = C_s[t-1],\n",
    "                     z = z_s[t], f = f_s[t], i = i_s[t], C_bar = C_bar_s[t],\n",
    "                     C = C_s[t], o = o_s[t], h = h_s[t], v = v_s[t],\n",
    "                     y = y_s[t])\n",
    "\n",
    "    clip_gradients()\n",
    "        \n",
    "    return loss, h_s[len(inputs) - 1], C_s[len(inputs) - 1]\n",
    "\n",
    "def generate_next_char(h_prev, C_prev, first_char_idx, sentence_length):\n",
    "    x = np.zeros((vocab_size, 1))\n",
    "    x[first_char_idx] = 1\n",
    "\n",
    "    h = h_prev\n",
    "    C = C_prev\n",
    "\n",
    "    indexes = []\n",
    "    \n",
    "    for t in range(sentence_length):\n",
    "        _, _, _, _, C, _, h, _, p = forward(x, h, C)\n",
    "        idx = np.random.choice(range(vocab_size), p=p.ravel())\n",
    "        x = np.zeros((vocab_size, 1))\n",
    "        x[idx] = 1\n",
    "        indexes.append(idx)\n",
    "\n",
    "    return indexes\n",
    "\n",
    "# Update the graph and display a sample output\n",
    "def update_status(inputs, h_prev, C_prev):\n",
    "    #initialized later\n",
    "    global plot_iter, plot_loss\n",
    "    global smooth_loss\n",
    "    \n",
    "    # Get predictions for 200 letters with current model\n",
    "\n",
    "    sample_idx = generate_next_char(h_prev, C_prev, inputs[0], 20)\n",
    "    txt = ''.join(index_to_word[idx] for idx in sample_idx)\n",
    "\n",
    "    # Clear and plot\n",
    "    plt.plot(plot_iter, plot_loss)\n",
    "    display.clear_output(wait=True)\n",
    "    plt.show()\n",
    "\n",
    "    #Print prediction and loss\n",
    "    print(\"----\\n %s \\n----\" % (txt, ))\n",
    "    print(\"iter %d, loss %f\" % (iteration, smooth_loss))\n",
    "    \n",
    "def update_paramters(params = parameters_double):\n",
    "    for p in params.all():\n",
    "        p.m += p.d * p.d # Calculate sum of gradients\n",
    "        #print(learning_rate * dparam)\n",
    "        p.v += -(learning_rate * p.d / np.sqrt(p.m + 1e-8))\n",
    "        \n",
    "# Exponential average of loss\n",
    "# Initialize to a error of a random model\n",
    "smooth_loss = -np.log(1.0 / vocab_size) * T_steps\n",
    "\n",
    "iteration, pointer = 0, 0\n",
    "\n",
    "# For the graph\n",
    "plot_iter = np.zeros((0))\n",
    "plot_loss = np.zeros((0))\n",
    "\n",
    "# Update the graph and display a sample output\n",
    "def print_status(inputs, h_prev, C_prev):\n",
    "    # Get predictions for 200 letters with current model\n",
    "    sample_idx = generate_next_char(h_prev, C_prev, inputs[0], 20)\n",
    "    txt = ' '.join(index_to_word[idx] for idx in sample_idx)\n",
    "    # Clear and plot\n",
    "    #plt.plot(plot_iter, plot_loss)\n",
    "    #display.clear_output(wait=True)\n",
    "    #plt.show()\n",
    "    #Print prediction and loss\n",
    "    print(\"----\\n %s \\n----\" % (txt, ))"
   ]
  },
  {
   "cell_type": "code",
   "execution_count": 93,
   "metadata": {},
   "outputs": [
    {
     "name": "stdout",
     "output_type": "stream",
     "text": [
      "prediction at breakpoint:  10\n",
      "----\n",
      " collection end imaginable comprehend sped carolina neither wandering garden treated somewhat compasses boy creating attempt floated disagreeable design planetary seizing \n",
      "----\n",
      "prediction at breakpoint:  20\n",
      "----\n",
      " shots gloomy acid bearing disk brought damages shrug fierce gay recognized tool faded flanks hall weeks steam bed org toledo \n",
      "----\n",
      "prediction at breakpoint:  30\n",
      "----\n",
      " effort tremendous open added bring 000 set hours sweep ends consideration declared attraction denizens child 1 wondered difficulties forehead had \n",
      "----\n",
      "prediction at breakpoint:  40\n",
      "----\n",
      " larger version mechanical sparkling gentlemen 28 kept miserable below travelers applause produced continue latin imagined lapse f visions vegetable notes \n",
      "----\n",
      "prediction at breakpoint:  50\n",
      "----\n",
      " phrase mixed bears thrown example fatality updated cable acoustic gallery purposes change lost is blows similar available badly float chlorate \n",
      "----\n",
      "prediction at breakpoint:  60\n",
      "----\n",
      " silver might institution in precipices moved scartaris momentarily reach fathoms re SENTENCE_END sped laughter slightest journey pickaxes rightly wrong waters \n",
      "----\n",
      "prediction at breakpoint:  70\n",
      "----\n",
      " sandy sneffels including continue last lightning start changing considering teeth asserted banks devil alarm cost running consider entered uses reddish \n",
      "----\n",
      "prediction at breakpoint:  80\n",
      "----\n",
      " 25 persist f license fault torrent with confessed portions chosen cannon panic might entrusted cost wall omitted works lowest remained \n",
      "----\n",
      "prediction at breakpoint:  99\n",
      "----\n",
      " may 29 off that asserted article unhappy eyelids when finest 200 south 10 consent correctness astounding version shelter f and \n",
      "----\n"
     ]
    },
    {
     "data": {
      "text/plain": [
       "[<matplotlib.lines.Line2D at 0x1208ae8d0>]"
      ]
     },
     "execution_count": 93,
     "metadata": {},
     "output_type": "execute_result"
    },
    {
     "data": {
      "image/png": "[encoded data removed]",
      "text/plain": [
       "<Figure size 432x288 with 1 Axes>"
      ]
     },
     "metadata": {
      "needs_background": "light"
     },
     "output_type": "display_data"
    }
   ],
   "source": [
    "\n",
    "list_of_breakpoints = [10,20,30,40,50,60,70,80,99]\n",
    "iteration=0\n",
    "plot_loss_inner = []\n",
    "# print('input characters')\n",
    "# print('%s'%\" \".join([index_to_word[x] for x in inputs]))\n",
    "for i in range(100):\n",
    "    if pointer + T_steps >= len(train_data) or iteration == 0:\n",
    "        g_h_prev = np.zeros((H_size, 1))\n",
    "        g_C_prev = np.zeros((H_size, 1))\n",
    "        pointer = 0\n",
    "        inputs = XTrain[:T_steps]\n",
    "        targets = yTrain[:T_steps]\n",
    "    \n",
    "    \n",
    "\n",
    "\n",
    "    loss, g_h_prev, g_C_prev = \\\n",
    "        forward_backward(inputs, targets, g_h_prev, g_C_prev)\n",
    "    smooth_loss = smooth_loss * 0.999 + loss * 0.001\n",
    "    if iteration in list_of_breakpoints:\n",
    "        print('prediction at breakpoint: ', iteration)\n",
    "        print_status(inputs, g_h_prev, g_C_prev)\n",
    "\n",
    "    update_paramters()\n",
    "    plot_loss_inner = np.append(plot_loss_inner, [loss])\n",
    "\n",
    "    pointer += T_steps\n",
    "    iteration += 1\n",
    "\n",
    "plt.plot(plot_loss_inner)\n",
    "\n",
    "\n",
    "        "
   ]
  },
  {
   "cell_type": "markdown",
   "metadata": {},
   "source": [
    "# Halving hidden units"
   ]
  },
  {
   "cell_type": "code",
   "execution_count": 97,
   "metadata": {},
   "outputs": [],
   "source": [
    "# Constants and hyper-params\n",
    "H_size = 5 # Size of the hidden layer\n",
    "T_steps = 10\n",
    "# Number of time steps (length of the sequence) used for training\n",
    "learning_rate = .005 # Learning rate\n",
    "weight_sd = 0.1 # Standard deviation of weights for initialization\n",
    "z_size = H_size + vocab_size # Size of concatenate(H, X) vector"
   ]
  },
  {
   "cell_type": "code",
   "execution_count": 98,
   "metadata": {},
   "outputs": [],
   "source": [
    "# Parameters\n",
    "# We use random weights with normal distribution (0, weight_sd) for  tanh  activation function \n",
    "# and (0.5, weight_sd) for  sigmoid  activation function.\n",
    "# Biases are initialized to zeros.\n",
    "class Param:\n",
    "    def __init__(self, name, value):\n",
    "        self.name = name\n",
    "        self.v = value #parameter value\n",
    "        self.d = np.zeros_like(value) #derivative\n",
    "        self.m = np.zeros_like(value) #momentum for AdaGrad\n",
    "        \n",
    "class Parameters:\n",
    "    def __init__(self):\n",
    "        self.W_f = Param('W_f', \n",
    "                         np.random.randn(H_size, z_size) * weight_sd + 0.5)\n",
    "        self.b_f = Param('b_f',\n",
    "                         np.zeros((H_size, 1)))\n",
    "\n",
    "        self.W_i = Param('W_i',\n",
    "                         np.random.randn(H_size, z_size) * weight_sd + 0.5)\n",
    "        self.b_i = Param('b_i',\n",
    "                         np.zeros((H_size, 1)))\n",
    "\n",
    "        self.W_C = Param('W_C',\n",
    "                         np.random.randn(H_size, z_size) * weight_sd)\n",
    "        self.b_C = Param('b_C',\n",
    "                         np.zeros((H_size, 1)))\n",
    "\n",
    "        self.W_o = Param('W_o',\n",
    "                         np.random.randn(H_size, z_size) * weight_sd + 0.5)\n",
    "        self.b_o = Param('b_o',\n",
    "                         np.zeros((H_size, 1)))\n",
    "\n",
    "        #For final layer to predict the next character\n",
    "        self.W_v = Param('W_v',\n",
    "                         np.random.randn(vocab_size, H_size) * weight_sd)\n",
    "        self.b_v = Param('b_v',\n",
    "                         np.zeros((vocab_size, 1)))\n",
    "        \n",
    "    def all(self):\n",
    "        return [self.W_f, self.W_i, self.W_C, self.W_o, self.W_v,\n",
    "               self.b_f, self.b_i, self.b_C, self.b_o, self.b_v]\n",
    "        \n",
    "parameters_half = Parameters()\n",
    "\n",
    "def forward(x, h_prev, C_prev, p = parameters_half):\n",
    "    assert x.shape == (vocab_size, 1)\n",
    "    assert h_prev.shape == (H_size, 1)\n",
    "    assert C_prev.shape == (H_size, 1)\n",
    "    \n",
    "    z = np.row_stack((h_prev, x))\n",
    "    f = sigmoid(np.dot(p.W_f.v, z) + p.b_f.v)\n",
    "    i = sigmoid(np.dot(p.W_i.v, z) + p.b_i.v)\n",
    "    C_bar = tanh(np.dot(p.W_C.v, z) + p.b_C.v)\n",
    "\n",
    "    C = f * C_prev + i * C_bar\n",
    "    o = sigmoid(np.dot(p.W_o.v, z) + p.b_o.v)\n",
    "    h = o * tanh(C)\n",
    "\n",
    "    v = np.dot(p.W_v.v, h) + p.b_v.v\n",
    "    y = np.exp(v) / np.sum(np.exp(v)) #softmax\n",
    "\n",
    "    return z, f, i, C_bar, C, o, h, v, y\n",
    "\n",
    "def backward(target, dh_next, dC_next, C_prev,\n",
    "             z, f, i, C_bar, C, o, h, v, y,\n",
    "             p = parameters_half):\n",
    "    \n",
    "    assert z.shape == (vocab_size + H_size, 1)\n",
    "    assert v.shape == (vocab_size, 1)\n",
    "    assert y.shape == (vocab_size, 1)\n",
    "    \n",
    "    for param in [dh_next, dC_next, C_prev, f, i, C_bar, C, o, h]:\n",
    "        assert param.shape == (H_size, 1)\n",
    "        \n",
    "    dv = np.copy(y)\n",
    "    dv[target] -= 1\n",
    "\n",
    "    p.W_v.d += np.dot(dv, h.T)\n",
    "    p.b_v.d += dv\n",
    "\n",
    "    dh = np.dot(p.W_v.v.T, dv)        \n",
    "    dh += dh_next\n",
    "    do = dh * tanh(C)\n",
    "    do = dsigmoid(o) * do\n",
    "    p.W_o.d += np.dot(do, z.T)\n",
    "    p.b_o.d += do\n",
    "\n",
    "    dC = np.copy(dC_next)\n",
    "    dC += dh * o * dtanh(tanh(C))\n",
    "    dC_bar = dC * i\n",
    "    dC_bar = dtanh(C_bar) * dC_bar\n",
    "    p.W_C.d += np.dot(dC_bar, z.T)\n",
    "    p.b_C.d += dC_bar\n",
    "\n",
    "    di = dC * C_bar\n",
    "    di = dsigmoid(i) * di\n",
    "    p.W_i.d += np.dot(di, z.T)\n",
    "    p.b_i.d += di\n",
    "\n",
    "    df = dC * C_prev\n",
    "    df = dsigmoid(f) * df\n",
    "    p.W_f.d += np.dot(df, z.T)\n",
    "    p.b_f.d += df\n",
    "\n",
    "    dz = (np.dot(p.W_f.v.T, df)\n",
    "         + np.dot(p.W_i.v.T, di)\n",
    "         + np.dot(p.W_C.v.T, dC_bar)\n",
    "         + np.dot(p.W_o.v.T, do))\n",
    "    dh_prev = dz[:H_size, :]\n",
    "    dC_prev = f * dC\n",
    "    \n",
    "    return dh_prev, dC_prev\n",
    "\n",
    "# Clear gradients before each backward pass\n",
    "def clear_gradients(params = parameters_half):\n",
    "    for p in params.all():\n",
    "        p.d.fill(0)\n",
    "        \n",
    "        \n",
    "# Clip gradients to mitigate exploding gradients\n",
    "def clip_gradients(params = parameters_half):\n",
    "    for p in params.all():\n",
    "        np.clip(p.d, -1, 1, out=p.d)\n",
    "        \n",
    "def forward_backward(inputs, targets, h_prev, C_prev):\n",
    "    global paramters\n",
    "    \n",
    "    # To store the values for each time step\n",
    "    x_s, z_s, f_s, i_s,  = {}, {}, {}, {}\n",
    "    C_bar_s, C_s, o_s, h_s = {}, {}, {}, {}\n",
    "    v_s, y_s =  {}, {}\n",
    "    \n",
    "    # Values at t - 1\n",
    "    h_s[-1] = np.copy(h_prev)\n",
    "    C_s[-1] = np.copy(C_prev)\n",
    "    \n",
    "    loss = 0\n",
    "    # Loop through time steps\n",
    "    for t in range(len(inputs)):\n",
    "        x_s[t] = np.zeros((vocab_size, 1))\n",
    "        x_s[t][inputs[t]] = 1 # Input character\n",
    "        \n",
    "        (z_s[t], f_s[t], i_s[t],\n",
    "        C_bar_s[t], C_s[t], o_s[t], h_s[t],\n",
    "        v_s[t], y_s[t]) = \\\n",
    "            forward(x_s[t], h_s[t - 1], C_s[t - 1]) # Forward pass\n",
    "       \n",
    "            \n",
    "        loss += -np.log(y_s[t][len(targets[t]), 0]) # Loss for at t\n",
    "        \n",
    "    clear_gradients()\n",
    "\n",
    "    dh_next = np.zeros_like(h_s[0]) #dh from the next character\n",
    "    dC_next = np.zeros_like(C_s[0]) #dh from the next character\n",
    "\n",
    "    for t in reversed(range(len(inputs))):\n",
    "        # Backward pass\n",
    "        dh_next, dC_next = \\\n",
    "            backward(target = targets[t], dh_next = dh_next,\n",
    "                     dC_next = dC_next, C_prev = C_s[t-1],\n",
    "                     z = z_s[t], f = f_s[t], i = i_s[t], C_bar = C_bar_s[t],\n",
    "                     C = C_s[t], o = o_s[t], h = h_s[t], v = v_s[t],\n",
    "                     y = y_s[t])\n",
    "\n",
    "    clip_gradients()\n",
    "        \n",
    "    return loss, h_s[len(inputs) - 1], C_s[len(inputs) - 1]\n",
    "\n",
    "def generate_next_char(h_prev, C_prev, first_char_idx, sentence_length):\n",
    "    x = np.zeros((vocab_size, 1))\n",
    "    x[first_char_idx] = 1\n",
    "\n",
    "    h = h_prev\n",
    "    C = C_prev\n",
    "\n",
    "    indexes = []\n",
    "    \n",
    "    for t in range(sentence_length):\n",
    "        _, _, _, _, C, _, h, _, p = forward(x, h, C)\n",
    "        idx = np.random.choice(range(vocab_size), p=p.ravel())\n",
    "        x = np.zeros((vocab_size, 1))\n",
    "        x[idx] = 1\n",
    "        indexes.append(idx)\n",
    "\n",
    "    return indexes\n",
    "\n",
    "# Update the graph and display a sample output\n",
    "def update_status(inputs, h_prev, C_prev):\n",
    "    #initialized later\n",
    "    global plot_iter, plot_loss\n",
    "    global smooth_loss\n",
    "    \n",
    "    # Get predictions for 200 letters with current model\n",
    "\n",
    "    sample_idx = generate_next_char(h_prev, C_prev, inputs[0], 20)\n",
    "    txt = ''.join(index_to_word[idx] for idx in sample_idx)\n",
    "\n",
    "    # Clear and plot\n",
    "    plt.plot(plot_iter, plot_loss)\n",
    "    display.clear_output(wait=True)\n",
    "    plt.show()\n",
    "\n",
    "    #Print prediction and loss\n",
    "    print(\"----\\n %s \\n----\" % (txt, ))\n",
    "    print(\"iter %d, loss %f\" % (iteration, smooth_loss))\n",
    "    \n",
    "def update_paramters(params = parameters_half):\n",
    "    for p in params.all():\n",
    "        p.m += p.d * p.d # Calculate sum of gradients\n",
    "        #print(learning_rate * dparam)\n",
    "        p.v += -(learning_rate * p.d / np.sqrt(p.m + 1e-8))\n",
    "        \n",
    "# Exponential average of loss\n",
    "# Initialize to a error of a random model\n",
    "smooth_loss = -np.log(1.0 / vocab_size) * T_steps\n",
    "\n",
    "iteration, pointer = 0, 0\n",
    "\n",
    "# For the graph\n",
    "plot_iter = np.zeros((0))\n",
    "plot_loss = np.zeros((0))\n",
    "\n",
    "# Update the graph and display a sample output\n",
    "def print_status(inputs, h_prev, C_prev):\n",
    "    # Get predictions for 200 letters with current model\n",
    "    sample_idx = generate_next_char(h_prev, C_prev, inputs[0], 20)\n",
    "    txt = ' '.join(index_to_word[idx] for idx in sample_idx)\n",
    "    # Clear and plot\n",
    "    #plt.plot(plot_iter, plot_loss)\n",
    "    #display.clear_output(wait=True)\n",
    "    #plt.show()\n",
    "    #Print prediction and loss\n",
    "    print(\"----\\n %s \\n----\" % (txt, ))"
   ]
  },
  {
   "cell_type": "code",
   "execution_count": 99,
   "metadata": {},
   "outputs": [
    {
     "name": "stdout",
     "output_type": "stream",
     "text": [
      "prediction at breakpoint:  10\n",
      "----\n",
      " humors reappeared decidedly granitic glory distribute resembled scandinavian dying checked electronic inches crushed stage means seventeen tear not seconds friends \n",
      "----\n",
      "prediction at breakpoint:  20\n",
      "----\n",
      " stretched compose deprived count merry searched depths take color longer donate chamber wind b flight noticed turf contradiction resolution equally \n",
      "----\n",
      "prediction at breakpoint:  30\n",
      "----\n",
      " badly reported task active solution indignant SENTENCE_END federal hiding admit institute contains flight columbiad dazzled spark hillisborough asleep sped faintest \n",
      "----\n",
      "prediction at breakpoint:  40\n",
      "----\n",
      " rough calm brings pity sought mile literally mahomet passenger class assemblage wire ebooks limbs importance conditions conviction precipitated forward tore \n",
      "----\n",
      "prediction at breakpoint:  50\n",
      "----\n",
      " warned prospect tear dollars people hearty compared remain arne answered stray others readable twice given 19 bundles rid 25 match \n",
      "----\n",
      "prediction at breakpoint:  60\n",
      "----\n",
      " 10 dining eighty illustrious observations related chauffeurs fail muttered getting revolvers saturated undertaken cessation conceived imposed result walks puzzling set \n",
      "----\n",
      "prediction at breakpoint:  70\n",
      "----\n",
      " disclaimer lessons guide rejoined detonation slightest conjecture firmly note able wrath swim presence separated albany spot coal north fired colored \n",
      "----\n",
      "prediction at breakpoint:  80\n",
      "----\n",
      " passes bad blomsberry 1219 cultivated pleasure antediluvian alter decrease 16 devotion instance restored ladders neptune equipment lightning extended creator shudder \n",
      "----\n",
      "prediction at breakpoint:  99\n",
      "----\n",
      " into available nights initiatory animation zero happy awaiting deluge caused diving resumed motionless capable tuesday susquehanna crossing desperate does snow \n",
      "----\n"
     ]
    },
    {
     "data": {
      "text/plain": [
       "[<matplotlib.lines.Line2D at 0x120c7a780>]"
      ]
     },
     "execution_count": 99,
     "metadata": {},
     "output_type": "execute_result"
    },
    {
     "data": {
      "image/png": "[encoded data removed]",
      "text/plain": [
       "<Figure size 432x288 with 1 Axes>"
      ]
     },
     "metadata": {
      "needs_background": "light"
     },
     "output_type": "display_data"
    }
   ],
   "source": [
    "list_of_breakpoints = [10,20,30,40,50,60,70,80,99]\n",
    "iteration=0\n",
    "plot_loss_inner = []\n",
    "# print('input characters')\n",
    "# print('%s'%\" \".join([index_to_word[x] for x in inputs]))\n",
    "for i in range(100):\n",
    "    if pointer + T_steps >= len(train_data) or iteration == 0:\n",
    "        g_h_prev = np.zeros((H_size, 1))\n",
    "        g_C_prev = np.zeros((H_size, 1))\n",
    "        pointer = 0\n",
    "        inputs = XTrain[:T_steps]\n",
    "        targets = yTrain[:T_steps]\n",
    "    \n",
    "    \n",
    "\n",
    "\n",
    "    loss, g_h_prev, g_C_prev = \\\n",
    "        forward_backward(inputs, targets, g_h_prev, g_C_prev)\n",
    "    smooth_loss = smooth_loss * 0.999 + loss * 0.001\n",
    "    if iteration in list_of_breakpoints:\n",
    "        print('prediction at breakpoint: ', iteration)\n",
    "        print_status(inputs, g_h_prev, g_C_prev)\n",
    "\n",
    "    update_paramters()\n",
    "    plot_loss_inner = np.append(plot_loss_inner, [loss])\n",
    "\n",
    "    pointer += T_steps\n",
    "    iteration += 1\n",
    "\n",
    "plt.plot(plot_loss_inner)\n",
    "\n"
   ]
  },
  {
   "cell_type": "markdown",
   "metadata": {},
   "source": [
    "# Observation \n",
    "\n",
    "## Doubling hidden units\n",
    "\n",
    "- Processing time increased\n",
    "\n",
    "- Initially loss decreased to a lower point then increased\n",
    "\n",
    "- word prediction was not good for initial epochs but I hope it will eventually improve with epoch\n",
    "\n",
    "## Halving hidden units\n",
    "\n",
    "- Processing time decreased\n",
    "\n",
    "- loss was lower than other two\n",
    "\n",
    "- character prediction improved "
   ]
  },
  {
   "cell_type": "markdown",
   "metadata": {},
   "source": [
    "# Sequence length: Try doubling and halving your length of sequence that feeds into the network. And after training, plot the training loss vs the number of training epochs, and show the text sampling results. "
   ]
  },
  {
   "cell_type": "code",
   "execution_count": 100,
   "metadata": {},
   "outputs": [
    {
     "name": "stdout",
     "output_type": "stream",
     "text": [
      "prediction at breakpoint:  10\n",
      "----\n",
      " top summit fill mystery moral gravity permission clock redistributing catastrophe hansbach region risk consider miss vii permitted won high destroyed \n",
      "----\n",
      "prediction at breakpoint:  20\n",
      "----\n",
      " pole each leading 2 pencil portion writing fantastic atmospheres once change observatory francs high tenacity highly overcome amid 25 superb \n",
      "----\n",
      "prediction at breakpoint:  30\n",
      "----\n",
      " eagles imagination approve castle phenomenon compact www solely tenacity work accordingly examine northwest initial lighting contracted neutral glance summit regularly \n",
      "----\n",
      "prediction at breakpoint:  40\n",
      "----\n",
      " knocked 24 tomb course nodded xx painful yourselves empty formidable humphry luminous however peculiarly packed primitive expecting turn plan still \n",
      "----\n",
      "prediction at breakpoint:  50\n",
      "----\n",
      " maps hundred across intelligent recovered weigh humphry machinery sealed 150 signature which gaping inert driver attractive cared wretched road left \n",
      "----\n",
      "prediction at breakpoint:  60\n",
      "----\n",
      " federal motions murmur earthly aside hopes at mildly age soft captured canadian envelope waves pole channel explained condensed take back \n",
      "----\n",
      "prediction at breakpoint:  70\n",
      "----\n",
      " degree fiercely headlong bottles pitch unheard injured find screen brought error prospect novel arms status electronically speedily consideration sandstone successful \n",
      "----\n",
      "prediction at breakpoint:  80\n",
      "----\n",
      " ascii bold millions 35 after produce 9 extreme sixty shoulders restrictions eruption personage betrayed obeyed become threatened chose warmly something \n",
      "----\n",
      "prediction at breakpoint:  99\n",
      "----\n",
      " gardar round office 6th perpendicular opportunity wolcott money centrifugal requires feverish devoted verdure fleet launched banquet clasping 8 they obscure \n",
      "----\n"
     ]
    },
    {
     "data": {
      "text/plain": [
       "[<matplotlib.lines.Line2D at 0x1210e7a20>]"
      ]
     },
     "execution_count": 100,
     "metadata": {},
     "output_type": "execute_result"
    },
    {
     "data": {
      "image/png": "[encoded data removed]",
      "text/plain": [
       "<Figure size 432x288 with 1 Axes>"
      ]
     },
     "metadata": {
      "needs_background": "light"
     },
     "output_type": "display_data"
    }
   ],
   "source": [
    "##Doubling\n",
    "\n",
    "\n",
    "T_steps_double = T_steps * 2 \n",
    "parameters = Parameters()\n",
    "list_of_breakpoints = [10,20,30,40,50,60,70,80,99]\n",
    "iteration=0\n",
    "plot_loss_inner = []\n",
    "\n",
    "\n",
    "for i in range(100):\n",
    "    if pointer + T_steps_double >= len(train_data) or iteration == 0:\n",
    "        g_h_prev = np.zeros((H_size, 1))\n",
    "        g_C_prev = np.zeros((H_size, 1))\n",
    "        pointer = 0\n",
    "    inputs = XTrain[:T_steps_double]\n",
    "    targets = yTrain[:T_steps_double]\n",
    "    \n",
    "\n",
    "    loss, g_h_prev, g_C_prev = \\\n",
    "        forward_backward(inputs, targets, g_h_prev, g_C_prev)\n",
    "    smooth_loss = smooth_loss * 0.999 + loss * 0.001\n",
    "    if iteration in list_of_breakpoints:\n",
    "        print('prediction at breakpoint: ', iteration)\n",
    "        print_status(inputs, g_h_prev, g_C_prev)\n",
    "\n",
    "    update_paramters()\n",
    "    plot_loss_inner = np.append(plot_loss_inner, [loss])\n",
    "\n",
    "    pointer += T_steps_double\n",
    "    iteration += 1\n",
    "\n",
    "plt.plot(plot_loss_inner)\n",
    "\n",
    "\n"
   ]
  },
  {
   "cell_type": "code",
   "execution_count": 101,
   "metadata": {},
   "outputs": [
    {
     "name": "stdout",
     "output_type": "stream",
     "text": [
      "prediction at breakpoint:  10\n",
      "----\n",
      " all distant elphinstone fiery informed being audience theories eagerness frail falls sloping pronounced who performances mad successful impetus deal reduced \n",
      "----\n",
      "prediction at breakpoint:  20\n",
      "----\n",
      " resembled illness correctness drank morrow land goes beds beach deaden supports irradiation 7 steadily canada erie 90 requiring restore locality \n",
      "----\n",
      "prediction at breakpoint:  30\n",
      "----\n",
      " anguish crushed covering astounding person 5 blue birth meat landed terrible fixed schiedam seminoles enclosure doubled carved vast profound her \n",
      "----\n",
      "prediction at breakpoint:  40\n",
      "----\n",
      " entered reserved persist talking conceal wonderful castle lack 8 assistants approaches heaps cylindro 11th burnt port rations monstrous consisting individual \n",
      "----\n",
      "prediction at breakpoint:  50\n",
      "----\n",
      " iceland subterraneous concept telescope safe net vain darting reality maneuver belongs arise sixty safely 9 city watched hunter operation july \n",
      "----\n",
      "prediction at breakpoint:  60\n",
      "----\n",
      " save outline pine situated cosmical optical go construct poor learn northern conflagration infernal circumference desolate production giants p magnifying volcano \n",
      "----\n",
      "prediction at breakpoint:  70\n",
      "----\n",
      " island submerged dream reappear citizens significant consulted doubt delivered comprehended lapse runic returning denouement abysses faces endured degree burn peacefully \n",
      "----\n",
      "prediction at breakpoint:  80\n",
      "----\n",
      " added silence fatiguing commanded mail banquet tight tried windings driver treading traversed rapid spaces amazement desolate slopes engines fair cataract \n",
      "----\n",
      "prediction at breakpoint:  99\n",
      "----\n",
      " better arkansas mountains show single 28 bewildering harmless imperceptible people rays arrived throw affected amiable savage insensate deceived mountainous shepherd \n",
      "----\n"
     ]
    },
    {
     "data": {
      "text/plain": [
       "[<matplotlib.lines.Line2D at 0x120a4e438>]"
      ]
     },
     "execution_count": 101,
     "metadata": {},
     "output_type": "execute_result"
    },
    {
     "data": {
      "image/png": "[encoded data removed]",
      "text/plain": [
       "<Figure size 432x288 with 1 Axes>"
      ]
     },
     "metadata": {
      "needs_background": "light"
     },
     "output_type": "display_data"
    }
   ],
   "source": [
    "##Halving\n",
    "\n",
    "\n",
    "T_steps_half = T_steps // 2 \n",
    "parameters = Parameters()\n",
    "list_of_breakpoints = [10,20,30,40,50,60,70,80,99]\n",
    "iteration=0\n",
    "plot_loss_inner = []\n",
    "\n",
    "\n",
    "for i in range(100):\n",
    "    if pointer + T_steps_half >= len(train_data) or iteration == 0:\n",
    "        g_h_prev = np.zeros((H_size, 1))\n",
    "        g_C_prev = np.zeros((H_size, 1))\n",
    "        pointer = 0\n",
    "    inputs = XTrain[:T_steps_half]\n",
    "    targets = yTrain[:T_steps_half]\n",
    "    \n",
    "\n",
    "    loss, g_h_prev, g_C_prev = \\\n",
    "        forward_backward(inputs, targets, g_h_prev, g_C_prev)\n",
    "    smooth_loss = smooth_loss * 0.999 + loss * 0.001\n",
    "    if iteration in list_of_breakpoints:\n",
    "        print('prediction at breakpoint: ', iteration)\n",
    "        print_status(inputs, g_h_prev, g_C_prev)\n",
    "\n",
    "    update_paramters()\n",
    "    plot_loss_inner = np.append(plot_loss_inner, [loss])\n",
    "\n",
    "    pointer += T_steps_double\n",
    "    iteration += 1\n",
    "\n",
    "plt.plot(plot_loss_inner)\n",
    "\n",
    "\n"
   ]
  },
  {
   "cell_type": "markdown",
   "metadata": {},
   "source": [
    "# Observation\n",
    "\n",
    "## doubling sequence length\n",
    "\n",
    "- Loss did not decrease much than previous graph\n",
    "\n",
    "- processing time increased\n",
    "\n",
    "\n",
    "\n",
    "## halving sequence length\n",
    "\n",
    "- Loss became much low \n",
    "\n",
    "- processing time decreased\n",
    "\n"
   ]
  },
  {
   "cell_type": "code",
   "execution_count": null,
   "metadata": {},
   "outputs": [],
   "source": []
  }
 ],
 "metadata": {
  "kernelspec": {
   "display_name": "Python 3",
   "language": "python",
   "name": "python3"
  },
  "language_info": {
   "codemirror_mode": {
    "name": "ipython",
    "version": 3
   },
   "file_extension": ".py",
   "mimetype": "text/x-python",
   "name": "python",
   "nbconvert_exporter": "python",
   "pygments_lexer": "ipython3",
   "version": "3.7.2"
  }
 },
 "nbformat": 4,
 "nbformat_minor": 2
}
